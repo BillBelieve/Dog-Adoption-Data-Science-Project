{
 "cells": [
  {
   "cell_type": "markdown",
   "metadata": {},
   "source": [
    "# Project Data Science - Dog Adoption Research\n",
    "## Goal\n",
    "In this project i will conduct research regarding which factors influence the adoptability of a dog which is up for adoption. \n",
    "\n",
    "## Data\n",
    "A dataset is taken from kaggle.com. [The dataset can be found here](https://www.kaggle.com/datasets/velazquezelsapetadoption)\n",
    "\n",
    "The dataset includes all sorts of variables including the breed, color, age and size of a dog.\n",
    "As well as different attributes of the dog, and with whom they have been socialized. \n",
    "The status and time between status changed is also noted.\n",
    "I will use this to create an outcome variable: time spent in the rescue system.\n",
    "For the dogs who have been adopted I will try and model which factors come into favour when being adopted. \n",
    "The data itsself is scraped of a site called petfinder.com which operates in the United States."
   ]
  },
  {
   "cell_type": "markdown",
   "metadata": {},
   "source": [
    "## importing required libraries"
   ]
  },
  {
   "cell_type": "code",
   "execution_count": 1,
   "metadata": {},
   "outputs": [],
   "source": [
    "# Global imports\n",
    "\n",
    "# Data transformation and computation modules\n",
    "import numpy as np\n",
    "import pandas as pd\n",
    "import matplotlib.pyplot as plt\n",
    "\n",
    "# Formatting libraries\n",
    "import json\n",
    "import datetime\n",
    "import time\n",
    "from pandas import json_normalize\n",
    "\n",
    "# Statistics and models\n",
    "import statsmodels.api as sm\n",
    "from sklearn.model_selection import train_test_split\n",
    "from sklearn.linear_model import LinearRegression\n",
    "from sklearn.preprocessing import PolynomialFeatures\n",
    "from sklearn.linear_model import LinearRegression\n",
    "\n",
    "# Model evaluation\n",
    "from sklearn.metrics import r2_score\n",
    "from sklearn.metrics import mean_squared_error"
   ]
  },
  {
   "cell_type": "markdown",
   "metadata": {},
   "source": [
    "- Numpy is used for creating array's, and computing mathematical operations on array's.\n",
    "- Pandas is used to make a dataframe out of the data set, which is easy to work with. \n",
    "- JSON is used because some of the data is in a JSON format, and this needed interpretation.\n",
    "- Matplotlib is an excellent tool for making graphical representations of data.\n",
    "- Datetime was used to compute the time between going in the shelter and getting out."
   ]
  },
  {
   "cell_type": "markdown",
   "metadata": {},
   "source": [
    "## importing data set\n",
    "### data set contains 722 Dogs, and 26 columns"
   ]
  },
  {
   "cell_type": "code",
   "execution_count": 2,
   "metadata": {},
   "outputs": [
    {
     "data": {
      "text/html": [
       "<div>\n",
       "<style scoped>\n",
       "    .dataframe tbody tr th:only-of-type {\n",
       "        vertical-align: middle;\n",
       "    }\n",
       "\n",
       "    .dataframe tbody tr th {\n",
       "        vertical-align: top;\n",
       "    }\n",
       "\n",
       "    .dataframe thead th {\n",
       "        text-align: right;\n",
       "    }\n",
       "</style>\n",
       "<table border=\"1\" class=\"dataframe\">\n",
       "  <thead>\n",
       "    <tr style=\"text-align: right;\">\n",
       "      <th></th>\n",
       "      <th>type</th>\n",
       "      <th>breeds</th>\n",
       "      <th>age</th>\n",
       "      <th>gender</th>\n",
       "      <th>size</th>\n",
       "      <th>coat</th>\n",
       "      <th>attributes</th>\n",
       "      <th>environment</th>\n",
       "      <th>name</th>\n",
       "      <th>status</th>\n",
       "      <th>status_changed_at</th>\n",
       "      <th>published_at</th>\n",
       "    </tr>\n",
       "  </thead>\n",
       "  <tbody>\n",
       "    <tr>\n",
       "      <th>0</th>\n",
       "      <td>Dog</td>\n",
       "      <td>{'primary': 'Terrier', 'secondary': 'Pug', 'mi...</td>\n",
       "      <td>Young</td>\n",
       "      <td>Male</td>\n",
       "      <td>Small</td>\n",
       "      <td>Short</td>\n",
       "      <td>{'spayed_neutered': 'True', 'house_trained': '...</td>\n",
       "      <td>{'children': 'None', 'dogs': 'True', 'cats': '...</td>\n",
       "      <td>Ruff</td>\n",
       "      <td>adopted</td>\n",
       "      <td>2020-08-16 18:21:00+00:00</td>\n",
       "      <td>2020-07-21 20:52:42+00:00</td>\n",
       "    </tr>\n",
       "    <tr>\n",
       "      <th>1</th>\n",
       "      <td>Dog</td>\n",
       "      <td>{'primary': 'German Shepherd Dog', 'secondary'...</td>\n",
       "      <td>Adult</td>\n",
       "      <td>Female</td>\n",
       "      <td>Medium</td>\n",
       "      <td>Medium</td>\n",
       "      <td>{'spayed_neutered': 'True', 'house_trained': '...</td>\n",
       "      <td>{'children': 'None', 'dogs': 'None', 'cats': '...</td>\n",
       "      <td>Delilah</td>\n",
       "      <td>adopted</td>\n",
       "      <td>2020-07-31 01:39:20+00:00</td>\n",
       "      <td>2020-07-21 13:17:11+00:00</td>\n",
       "    </tr>\n",
       "  </tbody>\n",
       "</table>\n",
       "</div>"
      ],
      "text/plain": [
       "  type                                             breeds    age  gender  \\\n",
       "0  Dog  {'primary': 'Terrier', 'secondary': 'Pug', 'mi...  Young    Male   \n",
       "1  Dog  {'primary': 'German Shepherd Dog', 'secondary'...  Adult  Female   \n",
       "\n",
       "     size    coat                                         attributes  \\\n",
       "0   Small   Short  {'spayed_neutered': 'True', 'house_trained': '...   \n",
       "1  Medium  Medium  {'spayed_neutered': 'True', 'house_trained': '...   \n",
       "\n",
       "                                         environment     name   status  \\\n",
       "0  {'children': 'None', 'dogs': 'True', 'cats': '...     Ruff  adopted   \n",
       "1  {'children': 'None', 'dogs': 'None', 'cats': '...  Delilah  adopted   \n",
       "\n",
       "           status_changed_at               published_at  \n",
       "0  2020-08-16 18:21:00+00:00  2020-07-21 20:52:42+00:00  \n",
       "1  2020-07-31 01:39:20+00:00  2020-07-21 13:17:11+00:00  "
      ]
     },
     "execution_count": 2,
     "metadata": {},
     "output_type": "execute_result"
    }
   ],
   "source": [
    "# Import dataset\n",
    "df = pd.read_csv(\"pet-adoption.csv\")\n",
    "\n",
    "# drop irrelevant variables\n",
    "df.drop(['id', 'organization_id', 'url', 'species','organization_animal_id','tags', 'photos','primary_photo_cropped', 'videos', 'distance', 'contact', '_links', 'description', 'colors'], axis=1, inplace=True)\n",
    "df.head(2)\n"
   ]
  },
  {
   "cell_type": "markdown",
   "metadata": {},
   "source": [
    "### The entire dataset was loaded in using pandas function read_csv() in the cell above\n",
    "after the data is loaded in, i immediately delete columns which provide no use to me\n",
    "to name a few;\n",
    "- species,  They're all dogs.\n",
    "- url,      Not interesting\n",
    "- id,       Arbitrary number without meaning\n",
    "- photos,   I've looked at the pictures and although they're all very cute, they provide no use to this research\n",
    "\n",
    "The raw data is also printed above. The data is not in an optimal format yet as there is several columns which contain packed information. It is stored in JSON format and that is our first challenge of this research\n",
    "\n",
    "As it became apparant to me later that even though the data looks like it is in JSON format, \n",
    "if you print out the type of it it shows up as a string.\n",
    "So we will need to transform this from a string to regular JSON, \n",
    "and then split the columns so that 1 column = 1 piece of information."
   ]
  },
  {
   "cell_type": "markdown",
   "metadata": {},
   "source": [
    "## converting JSON to normal text"
   ]
  },
  {
   "cell_type": "code",
   "execution_count": 3,
   "metadata": {},
   "outputs": [],
   "source": [
    "# convert JSON data\n",
    "\n",
    "# replace \" and unpack values\n",
    "values = [json.loads(value.replace(\"'\", \"\\\"\")) for value in df['attributes'].values]\n",
    "values[2]\n",
    "df1 = json_normalize(values)\n",
    "df1.head()\n",
    "\n",
    "# combine into original dataframe\n",
    "col = df.columns.difference(['attributes'])\n",
    "df = pd.concat([df[col], df1],axis=1)"
   ]
  },
  {
   "cell_type": "markdown",
   "metadata": {},
   "source": [
    "### The problem with the imported format:\n",
    "\n",
    "\n",
    "`df['attributes][2] = `\n",
    "\n",
    "`\"{'spayed_neutered': 'True', 'house_trained': 'False', 'declawed': 'None', 'special_needs': 'False', 'shots_current': 'True'}\"`\n",
    "\n",
    "\n",
    "### The data type is: String\n",
    "\n",
    "\n",
    "\n",
    "\n",
    "\n",
    "because there is a \" before and after every block of information. The interpreter therefor reads this as a string. \n",
    "\n",
    "With the above code, all \" are deleted such that the information becomes of type dictionary:\n",
    "\n",
    "\n",
    "\n",
    "\n",
    "\n",
    "\n",
    "`values[2] = `\n",
    "\n",
    "`{'spayed_neutered': 'True',`\n",
    "               ` 'house_trained': 'False',`\n",
    "              `  'declawed': 'None',`\n",
    "             `   'special_needs': 'False',`\n",
    "               ` 'shots_current': 'True'}`\n",
    "\n",
    "### Which is now in the correct format: Dictionary\n",
    "\n",
    "Then we can apply json_normalize to \"unfold\" the information as seperate columns.\n",
    "\n",
    "and lastly, the original dataframe and the new columns are added together such that they form 1 new dataframe. "
   ]
  },
  {
   "cell_type": "markdown",
   "metadata": {},
   "source": [
    "## Same JSON formatting is done for socialized in enviroment "
   ]
  },
  {
   "cell_type": "code",
   "execution_count": 4,
   "metadata": {},
   "outputs": [],
   "source": [
    "# convert JSON data \n",
    "\n",
    "# replace \" and unpack values\n",
    "values = [json.loads(value.replace(\"'\", \"\\\"\")) for value in df['environment'].values]\n",
    "df1 = json_normalize(values)\n",
    "df1.head()\n",
    "\n",
    "# combine into original dataframe\n",
    "col = df.columns.difference(['environment'])\n",
    "df = pd.concat([df[col], df1],axis=1)"
   ]
  },
  {
   "cell_type": "markdown",
   "metadata": {},
   "source": [
    "## And for the breeds variable"
   ]
  },
  {
   "cell_type": "code",
   "execution_count": 5,
   "metadata": {},
   "outputs": [],
   "source": [
    "# convert JSON data\n",
    "\n",
    "# replace \" and unpack values\n",
    "values = [json.loads(value.replace(\"'\", \"\\\"\")) for value in df['breeds'].values]\n",
    "df1 = json_normalize(values)\n",
    "df1.head()\n",
    "\n",
    "# combine into original dataframe\n",
    "col = df.columns.difference(['breeds'])\n",
    "df = pd.concat([df[col], df1],axis=1)"
   ]
  },
  {
   "cell_type": "markdown",
   "metadata": {},
   "source": [
    "## Reorder column's"
   ]
  },
  {
   "cell_type": "code",
   "execution_count": 6,
   "metadata": {},
   "outputs": [
    {
     "data": {
      "text/html": [
       "<div>\n",
       "<style scoped>\n",
       "    .dataframe tbody tr th:only-of-type {\n",
       "        vertical-align: middle;\n",
       "    }\n",
       "\n",
       "    .dataframe tbody tr th {\n",
       "        vertical-align: top;\n",
       "    }\n",
       "\n",
       "    .dataframe thead th {\n",
       "        text-align: right;\n",
       "    }\n",
       "</style>\n",
       "<table border=\"1\" class=\"dataframe\">\n",
       "  <thead>\n",
       "    <tr style=\"text-align: right;\">\n",
       "      <th></th>\n",
       "      <th>published_at</th>\n",
       "      <th>status_changed_at</th>\n",
       "      <th>status</th>\n",
       "      <th>type</th>\n",
       "      <th>primary</th>\n",
       "      <th>name</th>\n",
       "      <th>gender</th>\n",
       "      <th>age</th>\n",
       "      <th>size</th>\n",
       "      <th>coat</th>\n",
       "      <th>house_trained</th>\n",
       "      <th>shots_current</th>\n",
       "      <th>spayed_neutered</th>\n",
       "      <th>special_needs</th>\n",
       "      <th>children</th>\n",
       "      <th>dogs</th>\n",
       "      <th>cats</th>\n",
       "    </tr>\n",
       "  </thead>\n",
       "  <tbody>\n",
       "    <tr>\n",
       "      <th>0</th>\n",
       "      <td>2020-07-21 20:52:42+00:00</td>\n",
       "      <td>2020-08-16 18:21:00+00:00</td>\n",
       "      <td>adopted</td>\n",
       "      <td>Dog</td>\n",
       "      <td>Terrier</td>\n",
       "      <td>Ruff</td>\n",
       "      <td>Male</td>\n",
       "      <td>Young</td>\n",
       "      <td>Small</td>\n",
       "      <td>Short</td>\n",
       "      <td>True</td>\n",
       "      <td>True</td>\n",
       "      <td>True</td>\n",
       "      <td>False</td>\n",
       "      <td>None</td>\n",
       "      <td>True</td>\n",
       "      <td>None</td>\n",
       "    </tr>\n",
       "    <tr>\n",
       "      <th>1</th>\n",
       "      <td>2020-07-21 13:17:11+00:00</td>\n",
       "      <td>2020-07-31 01:39:20+00:00</td>\n",
       "      <td>adopted</td>\n",
       "      <td>Dog</td>\n",
       "      <td>German Shepherd Dog</td>\n",
       "      <td>Delilah</td>\n",
       "      <td>Female</td>\n",
       "      <td>Adult</td>\n",
       "      <td>Medium</td>\n",
       "      <td>Medium</td>\n",
       "      <td>False</td>\n",
       "      <td>True</td>\n",
       "      <td>True</td>\n",
       "      <td>False</td>\n",
       "      <td>None</td>\n",
       "      <td>None</td>\n",
       "      <td>None</td>\n",
       "    </tr>\n",
       "  </tbody>\n",
       "</table>\n",
       "</div>"
      ],
      "text/plain": [
       "                published_at          status_changed_at   status type  \\\n",
       "0  2020-07-21 20:52:42+00:00  2020-08-16 18:21:00+00:00  adopted  Dog   \n",
       "1  2020-07-21 13:17:11+00:00  2020-07-31 01:39:20+00:00  adopted  Dog   \n",
       "\n",
       "               primary     name  gender    age    size    coat house_trained  \\\n",
       "0              Terrier     Ruff    Male  Young   Small   Short          True   \n",
       "1  German Shepherd Dog  Delilah  Female  Adult  Medium  Medium         False   \n",
       "\n",
       "  shots_current spayed_neutered special_needs children  dogs  cats  \n",
       "0          True            True         False     None  True  None  \n",
       "1          True            True         False     None  None  None  "
      ]
     },
     "execution_count": 6,
     "metadata": {},
     "output_type": "execute_result"
    }
   ],
   "source": [
    "#  Reorder columns\n",
    "df = df.loc[:, ['published_at', 'status_changed_at', 'status','type', 'primary','name', 'gender','age', 'size', 'coat', 'house_trained', 'shots_current', 'spayed_neutered', 'special_needs', 'children', 'dogs', 'cats']]\n",
    "df.head(2)"
   ]
  },
  {
   "cell_type": "markdown",
   "metadata": {},
   "source": [
    "## Create outcome variable time spent in rescue"
   ]
  },
  {
   "cell_type": "markdown",
   "metadata": {},
   "source": [
    "Now that the data set is clean, we can start by making the outcome variable.\n",
    "In order to do this we interpret the timestamps of columns published at, and status changed at.\n",
    "\n",
    "This is done through the module of datetime, and time.\n",
    "By using the function time difference, we can easily get a list of data type datetime containing the information we need\n",
    "Because it is returned to us in datetime, we can easily have it interpretted by computational functions.\n",
    "\n",
    "The following code does roughly this:\n",
    "1. create empty list\n",
    "2. iterate over all dogs \n",
    "3. determine when dog was brought in\n",
    "4. determine when dog was adopted\n",
    "5. calculate days between this\n",
    "6. fill list with values\n",
    "7. create new column"
   ]
  },
  {
   "cell_type": "code",
   "execution_count": 7,
   "metadata": {},
   "outputs": [
    {
     "data": {
      "text/html": [
       "<div>\n",
       "<style scoped>\n",
       "    .dataframe tbody tr th:only-of-type {\n",
       "        vertical-align: middle;\n",
       "    }\n",
       "\n",
       "    .dataframe tbody tr th {\n",
       "        vertical-align: top;\n",
       "    }\n",
       "\n",
       "    .dataframe thead th {\n",
       "        text-align: right;\n",
       "    }\n",
       "</style>\n",
       "<table border=\"1\" class=\"dataframe\">\n",
       "  <thead>\n",
       "    <tr style=\"text-align: right;\">\n",
       "      <th></th>\n",
       "      <th>status</th>\n",
       "      <th>type</th>\n",
       "      <th>primary</th>\n",
       "      <th>name</th>\n",
       "      <th>gender</th>\n",
       "      <th>age</th>\n",
       "      <th>size</th>\n",
       "      <th>coat</th>\n",
       "      <th>house_trained</th>\n",
       "      <th>shots_current</th>\n",
       "      <th>spayed_neutered</th>\n",
       "      <th>special_needs</th>\n",
       "      <th>children</th>\n",
       "      <th>dogs</th>\n",
       "      <th>cats</th>\n",
       "      <th>time_in_rescue</th>\n",
       "    </tr>\n",
       "  </thead>\n",
       "  <tbody>\n",
       "    <tr>\n",
       "      <th>0</th>\n",
       "      <td>adopted</td>\n",
       "      <td>Dog</td>\n",
       "      <td>Terrier</td>\n",
       "      <td>Ruff</td>\n",
       "      <td>Male</td>\n",
       "      <td>Young</td>\n",
       "      <td>Small</td>\n",
       "      <td>Short</td>\n",
       "      <td>True</td>\n",
       "      <td>True</td>\n",
       "      <td>True</td>\n",
       "      <td>False</td>\n",
       "      <td>None</td>\n",
       "      <td>True</td>\n",
       "      <td>None</td>\n",
       "      <td>26</td>\n",
       "    </tr>\n",
       "    <tr>\n",
       "      <th>1</th>\n",
       "      <td>adopted</td>\n",
       "      <td>Dog</td>\n",
       "      <td>German Shepherd Dog</td>\n",
       "      <td>Delilah</td>\n",
       "      <td>Female</td>\n",
       "      <td>Adult</td>\n",
       "      <td>Medium</td>\n",
       "      <td>Medium</td>\n",
       "      <td>False</td>\n",
       "      <td>True</td>\n",
       "      <td>True</td>\n",
       "      <td>False</td>\n",
       "      <td>None</td>\n",
       "      <td>None</td>\n",
       "      <td>None</td>\n",
       "      <td>10</td>\n",
       "    </tr>\n",
       "  </tbody>\n",
       "</table>\n",
       "</div>"
      ],
      "text/plain": [
       "    status type              primary     name  gender    age    size    coat  \\\n",
       "0  adopted  Dog              Terrier     Ruff    Male  Young   Small   Short   \n",
       "1  adopted  Dog  German Shepherd Dog  Delilah  Female  Adult  Medium  Medium   \n",
       "\n",
       "  house_trained shots_current spayed_neutered special_needs children  dogs  \\\n",
       "0          True          True            True         False     None  True   \n",
       "1         False          True            True         False     None  None   \n",
       "\n",
       "   cats  time_in_rescue  \n",
       "0  None              26  \n",
       "1  None              10  "
      ]
     },
     "execution_count": 7,
     "metadata": {},
     "output_type": "execute_result"
    }
   ],
   "source": [
    "# make outcome variable\n",
    "\n",
    "# make empty list which will hold values for new column\n",
    "days_in_rescue = []\n",
    "\n",
    "# loop over published at and status changed\n",
    "for i, value in enumerate(df['published_at']):\n",
    "\n",
    "    # set time in\n",
    "    time_in = df.iloc[i]['published_at']\n",
    "    time_in = datetime.datetime.strptime(time_in[0:10], \"%Y-%m-%d\")\n",
    "\n",
    "\n",
    "    # set time out\n",
    "    time_out = df.iloc[i]['status_changed_at']\n",
    "    time_out = datetime.datetime.strptime(time_out[0:10], \"%Y-%m-%d\")\n",
    "\n",
    "    # calculate difference\n",
    "    time_difference = time_out - time_in\n",
    "\n",
    "    # append list with the difference \n",
    "    days_in_rescue.append(time_difference.days)\n",
    "\n",
    "# create new column\n",
    "df['time_in_rescue'] = days_in_rescue\n",
    "\n",
    "# drop 2 constructor columns\n",
    "df.drop(['published_at', 'status_changed_at'], axis=1, inplace=True)\n",
    "\n",
    "# make a copy for later\n",
    "copy = df.copy()\n",
    "\n",
    "df.head(2)"
   ]
  },
  {
   "cell_type": "markdown",
   "metadata": {},
   "source": [
    "## Drop adoptable dogs from the data"
   ]
  },
  {
   "cell_type": "markdown",
   "metadata": {},
   "source": [
    "now that the outcome variable has been made, the data transformation is almost complete.\n",
    "\n",
    "first we drop the adoptable dogs from the dataframe because they're not the population of interest for this research. \n",
    "\n",
    "The population of interest decays to 506"
   ]
  },
  {
   "cell_type": "code",
   "execution_count": 8,
   "metadata": {},
   "outputs": [
    {
     "data": {
      "text/html": [
       "<div>\n",
       "<style scoped>\n",
       "    .dataframe tbody tr th:only-of-type {\n",
       "        vertical-align: middle;\n",
       "    }\n",
       "\n",
       "    .dataframe tbody tr th {\n",
       "        vertical-align: top;\n",
       "    }\n",
       "\n",
       "    .dataframe thead th {\n",
       "        text-align: right;\n",
       "    }\n",
       "</style>\n",
       "<table border=\"1\" class=\"dataframe\">\n",
       "  <thead>\n",
       "    <tr style=\"text-align: right;\">\n",
       "      <th></th>\n",
       "      <th>status</th>\n",
       "      <th>type</th>\n",
       "      <th>primary</th>\n",
       "      <th>name</th>\n",
       "      <th>gender</th>\n",
       "      <th>age</th>\n",
       "      <th>size</th>\n",
       "      <th>coat</th>\n",
       "      <th>house_trained</th>\n",
       "      <th>shots_current</th>\n",
       "      <th>spayed_neutered</th>\n",
       "      <th>special_needs</th>\n",
       "      <th>children</th>\n",
       "      <th>dogs</th>\n",
       "      <th>cats</th>\n",
       "      <th>time_in_rescue</th>\n",
       "    </tr>\n",
       "  </thead>\n",
       "  <tbody>\n",
       "    <tr>\n",
       "      <th>0</th>\n",
       "      <td>adopted</td>\n",
       "      <td>Dog</td>\n",
       "      <td>Terrier</td>\n",
       "      <td>Ruff</td>\n",
       "      <td>Male</td>\n",
       "      <td>Young</td>\n",
       "      <td>Small</td>\n",
       "      <td>Short</td>\n",
       "      <td>True</td>\n",
       "      <td>True</td>\n",
       "      <td>True</td>\n",
       "      <td>False</td>\n",
       "      <td>None</td>\n",
       "      <td>True</td>\n",
       "      <td>None</td>\n",
       "      <td>26</td>\n",
       "    </tr>\n",
       "    <tr>\n",
       "      <th>1</th>\n",
       "      <td>adopted</td>\n",
       "      <td>Dog</td>\n",
       "      <td>German Shepherd Dog</td>\n",
       "      <td>Delilah</td>\n",
       "      <td>Female</td>\n",
       "      <td>Adult</td>\n",
       "      <td>Medium</td>\n",
       "      <td>Medium</td>\n",
       "      <td>False</td>\n",
       "      <td>True</td>\n",
       "      <td>True</td>\n",
       "      <td>False</td>\n",
       "      <td>None</td>\n",
       "      <td>None</td>\n",
       "      <td>None</td>\n",
       "      <td>10</td>\n",
       "    </tr>\n",
       "    <tr>\n",
       "      <th>3</th>\n",
       "      <td>adopted</td>\n",
       "      <td>Dog</td>\n",
       "      <td>Labrador Retriever</td>\n",
       "      <td>Louie</td>\n",
       "      <td>Male</td>\n",
       "      <td>Young</td>\n",
       "      <td>Medium</td>\n",
       "      <td>None</td>\n",
       "      <td>True</td>\n",
       "      <td>True</td>\n",
       "      <td>True</td>\n",
       "      <td>False</td>\n",
       "      <td>True</td>\n",
       "      <td>True</td>\n",
       "      <td>True</td>\n",
       "      <td>5</td>\n",
       "    </tr>\n",
       "    <tr>\n",
       "      <th>4</th>\n",
       "      <td>adopted</td>\n",
       "      <td>Dog</td>\n",
       "      <td>Border Collie</td>\n",
       "      <td>Kenny</td>\n",
       "      <td>Male</td>\n",
       "      <td>Adult</td>\n",
       "      <td>Medium</td>\n",
       "      <td>Long</td>\n",
       "      <td>True</td>\n",
       "      <td>True</td>\n",
       "      <td>True</td>\n",
       "      <td>False</td>\n",
       "      <td>None</td>\n",
       "      <td>None</td>\n",
       "      <td>None</td>\n",
       "      <td>2</td>\n",
       "    </tr>\n",
       "    <tr>\n",
       "      <th>5</th>\n",
       "      <td>adopted</td>\n",
       "      <td>Dog</td>\n",
       "      <td>Labrador Retriever</td>\n",
       "      <td>Stormy</td>\n",
       "      <td>Male</td>\n",
       "      <td>Senior</td>\n",
       "      <td>Large</td>\n",
       "      <td>Medium</td>\n",
       "      <td>True</td>\n",
       "      <td>True</td>\n",
       "      <td>True</td>\n",
       "      <td>False</td>\n",
       "      <td>True</td>\n",
       "      <td>True</td>\n",
       "      <td>True</td>\n",
       "      <td>12</td>\n",
       "    </tr>\n",
       "    <tr>\n",
       "      <th>...</th>\n",
       "      <td>...</td>\n",
       "      <td>...</td>\n",
       "      <td>...</td>\n",
       "      <td>...</td>\n",
       "      <td>...</td>\n",
       "      <td>...</td>\n",
       "      <td>...</td>\n",
       "      <td>...</td>\n",
       "      <td>...</td>\n",
       "      <td>...</td>\n",
       "      <td>...</td>\n",
       "      <td>...</td>\n",
       "      <td>...</td>\n",
       "      <td>...</td>\n",
       "      <td>...</td>\n",
       "      <td>...</td>\n",
       "    </tr>\n",
       "    <tr>\n",
       "      <th>716</th>\n",
       "      <td>adopted</td>\n",
       "      <td>Dog</td>\n",
       "      <td>Shepherd</td>\n",
       "      <td>Perch</td>\n",
       "      <td>Male</td>\n",
       "      <td>Baby</td>\n",
       "      <td>Medium</td>\n",
       "      <td>Short</td>\n",
       "      <td>False</td>\n",
       "      <td>True</td>\n",
       "      <td>True</td>\n",
       "      <td>False</td>\n",
       "      <td>True</td>\n",
       "      <td>True</td>\n",
       "      <td>None</td>\n",
       "      <td>0</td>\n",
       "    </tr>\n",
       "    <tr>\n",
       "      <th>717</th>\n",
       "      <td>adopted</td>\n",
       "      <td>Dog</td>\n",
       "      <td>Boxer</td>\n",
       "      <td>Dina</td>\n",
       "      <td>Female</td>\n",
       "      <td>Young</td>\n",
       "      <td>Medium</td>\n",
       "      <td>Short</td>\n",
       "      <td>False</td>\n",
       "      <td>True</td>\n",
       "      <td>True</td>\n",
       "      <td>False</td>\n",
       "      <td>None</td>\n",
       "      <td>None</td>\n",
       "      <td>None</td>\n",
       "      <td>9</td>\n",
       "    </tr>\n",
       "    <tr>\n",
       "      <th>719</th>\n",
       "      <td>adopted</td>\n",
       "      <td>Dog</td>\n",
       "      <td>Terrier</td>\n",
       "      <td>Omar</td>\n",
       "      <td>Male</td>\n",
       "      <td>Baby</td>\n",
       "      <td>Medium</td>\n",
       "      <td>Medium</td>\n",
       "      <td>True</td>\n",
       "      <td>True</td>\n",
       "      <td>True</td>\n",
       "      <td>False</td>\n",
       "      <td>None</td>\n",
       "      <td>True</td>\n",
       "      <td>None</td>\n",
       "      <td>26</td>\n",
       "    </tr>\n",
       "    <tr>\n",
       "      <th>720</th>\n",
       "      <td>adopted</td>\n",
       "      <td>Dog</td>\n",
       "      <td>Shepherd</td>\n",
       "      <td>Dora</td>\n",
       "      <td>Female</td>\n",
       "      <td>Baby</td>\n",
       "      <td>Large</td>\n",
       "      <td>None</td>\n",
       "      <td>False</td>\n",
       "      <td>True</td>\n",
       "      <td>False</td>\n",
       "      <td>False</td>\n",
       "      <td>True</td>\n",
       "      <td>True</td>\n",
       "      <td>None</td>\n",
       "      <td>0</td>\n",
       "    </tr>\n",
       "    <tr>\n",
       "      <th>721</th>\n",
       "      <td>adopted</td>\n",
       "      <td>Dog</td>\n",
       "      <td>Rat Terrier</td>\n",
       "      <td>Nova</td>\n",
       "      <td>Female</td>\n",
       "      <td>Adult</td>\n",
       "      <td>Small</td>\n",
       "      <td>Short</td>\n",
       "      <td>True</td>\n",
       "      <td>True</td>\n",
       "      <td>True</td>\n",
       "      <td>False</td>\n",
       "      <td>True</td>\n",
       "      <td>True</td>\n",
       "      <td>True</td>\n",
       "      <td>6</td>\n",
       "    </tr>\n",
       "  </tbody>\n",
       "</table>\n",
       "<p>506 rows × 16 columns</p>\n",
       "</div>"
      ],
      "text/plain": [
       "      status type              primary     name  gender     age    size  \\\n",
       "0    adopted  Dog              Terrier     Ruff    Male   Young   Small   \n",
       "1    adopted  Dog  German Shepherd Dog  Delilah  Female   Adult  Medium   \n",
       "3    adopted  Dog   Labrador Retriever    Louie    Male   Young  Medium   \n",
       "4    adopted  Dog        Border Collie    Kenny    Male   Adult  Medium   \n",
       "5    adopted  Dog   Labrador Retriever   Stormy    Male  Senior   Large   \n",
       "..       ...  ...                  ...      ...     ...     ...     ...   \n",
       "716  adopted  Dog             Shepherd    Perch    Male    Baby  Medium   \n",
       "717  adopted  Dog                Boxer     Dina  Female   Young  Medium   \n",
       "719  adopted  Dog              Terrier     Omar    Male    Baby  Medium   \n",
       "720  adopted  Dog             Shepherd     Dora  Female    Baby   Large   \n",
       "721  adopted  Dog          Rat Terrier     Nova  Female   Adult   Small   \n",
       "\n",
       "       coat house_trained shots_current spayed_neutered special_needs  \\\n",
       "0     Short          True          True            True         False   \n",
       "1    Medium         False          True            True         False   \n",
       "3      None          True          True            True         False   \n",
       "4      Long          True          True            True         False   \n",
       "5    Medium          True          True            True         False   \n",
       "..      ...           ...           ...             ...           ...   \n",
       "716   Short         False          True            True         False   \n",
       "717   Short         False          True            True         False   \n",
       "719  Medium          True          True            True         False   \n",
       "720    None         False          True           False         False   \n",
       "721   Short          True          True            True         False   \n",
       "\n",
       "    children  dogs  cats  time_in_rescue  \n",
       "0       None  True  None              26  \n",
       "1       None  None  None              10  \n",
       "3       True  True  True               5  \n",
       "4       None  None  None               2  \n",
       "5       True  True  True              12  \n",
       "..       ...   ...   ...             ...  \n",
       "716     True  True  None               0  \n",
       "717     None  None  None               9  \n",
       "719     None  True  None              26  \n",
       "720     True  True  None               0  \n",
       "721     True  True  True               6  \n",
       "\n",
       "[506 rows x 16 columns]"
      ]
     },
     "execution_count": 8,
     "metadata": {},
     "output_type": "execute_result"
    }
   ],
   "source": [
    "# drop adoptable dogs\n",
    "df.drop(df[df.status == 'adoptable'].index, inplace=True)\n",
    "df"
   ]
  },
  {
   "cell_type": "markdown",
   "metadata": {},
   "source": [
    "## Map string to boolean values"
   ]
  },
  {
   "cell_type": "code",
   "execution_count": 9,
   "metadata": {},
   "outputs": [],
   "source": [
    "# Make copy \n",
    "data1_bool = df.copy()\n",
    "\n",
    "# change str to bool\n",
    "data1_bool['house_trained'] = data1_bool['house_trained'].map({'True': True, 'False': False})\n",
    "data1_bool['shots_current'] = data1_bool['shots_current'].map({'True': True, 'False': False})\n",
    "data1_bool['spayed_neutered'] = data1_bool['spayed_neutered'].map({'True': True, 'False': False})\n",
    "data1_bool['children'] = data1_bool['children'].map({'True': True, 'None': False, 'False' : False})\n",
    "data1_bool['dogs'] = data1_bool['dogs'].map({'True': True, 'None': False, 'False' : False})\n",
    "data1_bool['cats'] = data1_bool['cats'].map({'True': True, 'None': False, 'False' : False})\n",
    "data1_bool['special_needs'] = data1_bool['special_needs'].map({'True': True, 'None': False, 'False' : False})"
   ]
  },
  {
   "cell_type": "markdown",
   "metadata": {},
   "source": [
    "## Change boolean values to dummy variables "
   ]
  },
  {
   "cell_type": "code",
   "execution_count": 10,
   "metadata": {},
   "outputs": [],
   "source": [
    "# change bool to dummy int\n",
    "data1_bool[\"house_trained\"] = data1_bool[\"house_trained\"].astype(int)\n",
    "data1_bool[\"shots_current\"] = data1_bool[\"shots_current\"].astype(int)\n",
    "data1_bool[\"spayed_neutered\"] = data1_bool[\"spayed_neutered\"].astype(int)\n",
    "data1_bool[\"special_needs\"] = data1_bool[\"special_needs\"].astype(int)\n",
    "data1_bool[\"children\"] = data1_bool[\"children\"].astype(int)\n",
    "data1_bool[\"dogs\"] = data1_bool[\"dogs\"].astype(int)\n",
    "data1_bool[\"cats\"] = data1_bool[\"cats\"].astype(int)"
   ]
  },
  {
   "cell_type": "markdown",
   "metadata": {},
   "source": [
    "## Update original data frame with new dumy variables"
   ]
  },
  {
   "cell_type": "code",
   "execution_count": 11,
   "metadata": {},
   "outputs": [
    {
     "data": {
      "text/html": [
       "<div>\n",
       "<style scoped>\n",
       "    .dataframe tbody tr th:only-of-type {\n",
       "        vertical-align: middle;\n",
       "    }\n",
       "\n",
       "    .dataframe tbody tr th {\n",
       "        vertical-align: top;\n",
       "    }\n",
       "\n",
       "    .dataframe thead th {\n",
       "        text-align: right;\n",
       "    }\n",
       "</style>\n",
       "<table border=\"1\" class=\"dataframe\">\n",
       "  <thead>\n",
       "    <tr style=\"text-align: right;\">\n",
       "      <th></th>\n",
       "      <th>status</th>\n",
       "      <th>type</th>\n",
       "      <th>primary</th>\n",
       "      <th>name</th>\n",
       "      <th>gender</th>\n",
       "      <th>age</th>\n",
       "      <th>size</th>\n",
       "      <th>coat</th>\n",
       "      <th>house_trained</th>\n",
       "      <th>shots_current</th>\n",
       "      <th>spayed_neutered</th>\n",
       "      <th>special_needs</th>\n",
       "      <th>children</th>\n",
       "      <th>dogs</th>\n",
       "      <th>cats</th>\n",
       "      <th>time_in_rescue</th>\n",
       "    </tr>\n",
       "  </thead>\n",
       "  <tbody>\n",
       "    <tr>\n",
       "      <th>0</th>\n",
       "      <td>adopted</td>\n",
       "      <td>Dog</td>\n",
       "      <td>Terrier</td>\n",
       "      <td>Ruff</td>\n",
       "      <td>Male</td>\n",
       "      <td>Young</td>\n",
       "      <td>Small</td>\n",
       "      <td>Short</td>\n",
       "      <td>1</td>\n",
       "      <td>1</td>\n",
       "      <td>1</td>\n",
       "      <td>0</td>\n",
       "      <td>0</td>\n",
       "      <td>1</td>\n",
       "      <td>0</td>\n",
       "      <td>26</td>\n",
       "    </tr>\n",
       "    <tr>\n",
       "      <th>1</th>\n",
       "      <td>adopted</td>\n",
       "      <td>Dog</td>\n",
       "      <td>German Shepherd Dog</td>\n",
       "      <td>Delilah</td>\n",
       "      <td>Female</td>\n",
       "      <td>Adult</td>\n",
       "      <td>Medium</td>\n",
       "      <td>Medium</td>\n",
       "      <td>0</td>\n",
       "      <td>1</td>\n",
       "      <td>1</td>\n",
       "      <td>0</td>\n",
       "      <td>0</td>\n",
       "      <td>0</td>\n",
       "      <td>0</td>\n",
       "      <td>10</td>\n",
       "    </tr>\n",
       "  </tbody>\n",
       "</table>\n",
       "</div>"
      ],
      "text/plain": [
       "    status type              primary     name  gender    age    size    coat  \\\n",
       "0  adopted  Dog              Terrier     Ruff    Male  Young   Small   Short   \n",
       "1  adopted  Dog  German Shepherd Dog  Delilah  Female  Adult  Medium  Medium   \n",
       "\n",
       "   house_trained  shots_current  spayed_neutered  special_needs  children  \\\n",
       "0              1              1                1              0         0   \n",
       "1              0              1                1              0         0   \n",
       "\n",
       "   dogs  cats  time_in_rescue  \n",
       "0     1     0              26  \n",
       "1     0     0              10  "
      ]
     },
     "execution_count": 11,
     "metadata": {},
     "output_type": "execute_result"
    }
   ],
   "source": [
    "# update df\n",
    "df = data1_bool\n",
    "df.head(2)"
   ]
  },
  {
   "cell_type": "markdown",
   "metadata": {},
   "source": [
    "## Check if there is any missing data"
   ]
  },
  {
   "cell_type": "code",
   "execution_count": 12,
   "metadata": {},
   "outputs": [
    {
     "data": {
      "text/plain": [
       "status             0\n",
       "type               0\n",
       "primary            0\n",
       "name               0\n",
       "gender             0\n",
       "age                0\n",
       "size               0\n",
       "coat               0\n",
       "house_trained      0\n",
       "shots_current      0\n",
       "spayed_neutered    0\n",
       "special_needs      0\n",
       "children           0\n",
       "dogs               0\n",
       "cats               0\n",
       "time_in_rescue     0\n",
       "dtype: int64"
      ]
     },
     "execution_count": 12,
     "metadata": {},
     "output_type": "execute_result"
    }
   ],
   "source": [
    "df.isnull().sum()"
   ]
  },
  {
   "cell_type": "markdown",
   "metadata": {},
   "source": [
    "## Set independant variables to X and dependant variable to Y"
   ]
  },
  {
   "cell_type": "code",
   "execution_count": 13,
   "metadata": {},
   "outputs": [],
   "source": [
    "# set x and y\n",
    "y = df['time_in_rescue']\n",
    "x = df[['house_trained', 'shots_current', 'spayed_neutered', 'special_needs', 'children', 'dogs', 'cats']]"
   ]
  },
  {
   "cell_type": "markdown",
   "metadata": {},
   "source": [
    "## Print correlation matrix"
   ]
  },
  {
   "cell_type": "markdown",
   "metadata": {},
   "source": [
    "A correlation matrix is a table that shows the statistical relationship between a set of variables. It gives the correlation coefficient between each pair of variables, which is a measure of the strength and direction of the relationship. The correlation coefficient can range from -1 to 1, where a value of -1 indicates a strong negative relationship, a value of 0 indicates no relationship, and a value of 1 indicates a strong positive relationship.\n",
    "\n",
    "In this table we can see that the highest correlation between time in rescue and an independant variable is 0.12 for shots current, and 0.11 for special needs. \n",
    "\n",
    "So at face value special needs has the biggest influence on the outcome "
   ]
  },
  {
   "cell_type": "code",
   "execution_count": 14,
   "metadata": {},
   "outputs": [
    {
     "name": "stderr",
     "output_type": "stream",
     "text": [
      "/var/folders/bx/c7_76bgj2zs1_dhl31l18hxc0000gp/T/ipykernel_4279/1134722465.py:1: FutureWarning: The default value of numeric_only in DataFrame.corr is deprecated. In a future version, it will default to False. Select only valid columns or specify the value of numeric_only to silence this warning.\n",
      "  df.corr()\n"
     ]
    },
    {
     "data": {
      "text/html": [
       "<div>\n",
       "<style scoped>\n",
       "    .dataframe tbody tr th:only-of-type {\n",
       "        vertical-align: middle;\n",
       "    }\n",
       "\n",
       "    .dataframe tbody tr th {\n",
       "        vertical-align: top;\n",
       "    }\n",
       "\n",
       "    .dataframe thead th {\n",
       "        text-align: right;\n",
       "    }\n",
       "</style>\n",
       "<table border=\"1\" class=\"dataframe\">\n",
       "  <thead>\n",
       "    <tr style=\"text-align: right;\">\n",
       "      <th></th>\n",
       "      <th>house_trained</th>\n",
       "      <th>shots_current</th>\n",
       "      <th>spayed_neutered</th>\n",
       "      <th>special_needs</th>\n",
       "      <th>children</th>\n",
       "      <th>dogs</th>\n",
       "      <th>cats</th>\n",
       "      <th>time_in_rescue</th>\n",
       "    </tr>\n",
       "  </thead>\n",
       "  <tbody>\n",
       "    <tr>\n",
       "      <th>house_trained</th>\n",
       "      <td>1.000000</td>\n",
       "      <td>0.163006</td>\n",
       "      <td>0.243611</td>\n",
       "      <td>0.121479</td>\n",
       "      <td>0.281518</td>\n",
       "      <td>0.263965</td>\n",
       "      <td>0.077728</td>\n",
       "      <td>0.099749</td>\n",
       "    </tr>\n",
       "    <tr>\n",
       "      <th>shots_current</th>\n",
       "      <td>0.163006</td>\n",
       "      <td>1.000000</td>\n",
       "      <td>0.495382</td>\n",
       "      <td>0.062168</td>\n",
       "      <td>0.182305</td>\n",
       "      <td>0.215743</td>\n",
       "      <td>0.089081</td>\n",
       "      <td>0.127210</td>\n",
       "    </tr>\n",
       "    <tr>\n",
       "      <th>spayed_neutered</th>\n",
       "      <td>0.243611</td>\n",
       "      <td>0.495382</td>\n",
       "      <td>1.000000</td>\n",
       "      <td>0.043912</td>\n",
       "      <td>0.104754</td>\n",
       "      <td>0.121716</td>\n",
       "      <td>0.080515</td>\n",
       "      <td>0.048914</td>\n",
       "    </tr>\n",
       "    <tr>\n",
       "      <th>special_needs</th>\n",
       "      <td>0.121479</td>\n",
       "      <td>0.062168</td>\n",
       "      <td>0.043912</td>\n",
       "      <td>1.000000</td>\n",
       "      <td>-0.018148</td>\n",
       "      <td>0.023483</td>\n",
       "      <td>0.005538</td>\n",
       "      <td>0.116175</td>\n",
       "    </tr>\n",
       "    <tr>\n",
       "      <th>children</th>\n",
       "      <td>0.281518</td>\n",
       "      <td>0.182305</td>\n",
       "      <td>0.104754</td>\n",
       "      <td>-0.018148</td>\n",
       "      <td>1.000000</td>\n",
       "      <td>0.588072</td>\n",
       "      <td>0.439604</td>\n",
       "      <td>-0.107371</td>\n",
       "    </tr>\n",
       "    <tr>\n",
       "      <th>dogs</th>\n",
       "      <td>0.263965</td>\n",
       "      <td>0.215743</td>\n",
       "      <td>0.121716</td>\n",
       "      <td>0.023483</td>\n",
       "      <td>0.588072</td>\n",
       "      <td>1.000000</td>\n",
       "      <td>0.399301</td>\n",
       "      <td>0.018029</td>\n",
       "    </tr>\n",
       "    <tr>\n",
       "      <th>cats</th>\n",
       "      <td>0.077728</td>\n",
       "      <td>0.089081</td>\n",
       "      <td>0.080515</td>\n",
       "      <td>0.005538</td>\n",
       "      <td>0.439604</td>\n",
       "      <td>0.399301</td>\n",
       "      <td>1.000000</td>\n",
       "      <td>-0.020369</td>\n",
       "    </tr>\n",
       "    <tr>\n",
       "      <th>time_in_rescue</th>\n",
       "      <td>0.099749</td>\n",
       "      <td>0.127210</td>\n",
       "      <td>0.048914</td>\n",
       "      <td>0.116175</td>\n",
       "      <td>-0.107371</td>\n",
       "      <td>0.018029</td>\n",
       "      <td>-0.020369</td>\n",
       "      <td>1.000000</td>\n",
       "    </tr>\n",
       "  </tbody>\n",
       "</table>\n",
       "</div>"
      ],
      "text/plain": [
       "                 house_trained  shots_current  spayed_neutered  special_needs  \\\n",
       "house_trained         1.000000       0.163006         0.243611       0.121479   \n",
       "shots_current         0.163006       1.000000         0.495382       0.062168   \n",
       "spayed_neutered       0.243611       0.495382         1.000000       0.043912   \n",
       "special_needs         0.121479       0.062168         0.043912       1.000000   \n",
       "children              0.281518       0.182305         0.104754      -0.018148   \n",
       "dogs                  0.263965       0.215743         0.121716       0.023483   \n",
       "cats                  0.077728       0.089081         0.080515       0.005538   \n",
       "time_in_rescue        0.099749       0.127210         0.048914       0.116175   \n",
       "\n",
       "                 children      dogs      cats  time_in_rescue  \n",
       "house_trained    0.281518  0.263965  0.077728        0.099749  \n",
       "shots_current    0.182305  0.215743  0.089081        0.127210  \n",
       "spayed_neutered  0.104754  0.121716  0.080515        0.048914  \n",
       "special_needs   -0.018148  0.023483  0.005538        0.116175  \n",
       "children         1.000000  0.588072  0.439604       -0.107371  \n",
       "dogs             0.588072  1.000000  0.399301        0.018029  \n",
       "cats             0.439604  0.399301  1.000000       -0.020369  \n",
       "time_in_rescue  -0.107371  0.018029 -0.020369        1.000000  "
      ]
     },
     "execution_count": 14,
     "metadata": {},
     "output_type": "execute_result"
    }
   ],
   "source": [
    "df.corr()"
   ]
  },
  {
   "cell_type": "markdown",
   "metadata": {},
   "source": [
    "## Print a summary of descriptive statistics about the sample"
   ]
  },
  {
   "cell_type": "markdown",
   "metadata": {},
   "source": [
    "Descriptive statistics are techniques used to summarize, organize, and describe a dataset. \n",
    "\n",
    "They are used to describe the basic features of the data and to provide a snapshot of the data's distribution, including measures of central tendency.\n",
    "\n",
    "In this case i think it is notable that the mean of a binary variable directly translates to what percentage of the population has that attribute.\n",
    "\n",
    "so for house trained the mean is 0,.347 which means that 34.7% of sample population is trained to be inside a house. \n"
   ]
  },
  {
   "cell_type": "code",
   "execution_count": 15,
   "metadata": {},
   "outputs": [
    {
     "data": {
      "text/html": [
       "<div>\n",
       "<style scoped>\n",
       "    .dataframe tbody tr th:only-of-type {\n",
       "        vertical-align: middle;\n",
       "    }\n",
       "\n",
       "    .dataframe tbody tr th {\n",
       "        vertical-align: top;\n",
       "    }\n",
       "\n",
       "    .dataframe thead th {\n",
       "        text-align: right;\n",
       "    }\n",
       "</style>\n",
       "<table border=\"1\" class=\"dataframe\">\n",
       "  <thead>\n",
       "    <tr style=\"text-align: right;\">\n",
       "      <th></th>\n",
       "      <th>house_trained</th>\n",
       "      <th>shots_current</th>\n",
       "      <th>spayed_neutered</th>\n",
       "      <th>special_needs</th>\n",
       "      <th>children</th>\n",
       "      <th>dogs</th>\n",
       "      <th>cats</th>\n",
       "      <th>time_in_rescue</th>\n",
       "    </tr>\n",
       "  </thead>\n",
       "  <tbody>\n",
       "    <tr>\n",
       "      <th>count</th>\n",
       "      <td>506.000000</td>\n",
       "      <td>506.000000</td>\n",
       "      <td>506.000000</td>\n",
       "      <td>506.000000</td>\n",
       "      <td>506.000000</td>\n",
       "      <td>506.000000</td>\n",
       "      <td>506.000000</td>\n",
       "      <td>506.000000</td>\n",
       "    </tr>\n",
       "    <tr>\n",
       "      <th>mean</th>\n",
       "      <td>0.347826</td>\n",
       "      <td>0.824111</td>\n",
       "      <td>0.747036</td>\n",
       "      <td>0.017787</td>\n",
       "      <td>0.511858</td>\n",
       "      <td>0.697628</td>\n",
       "      <td>0.314229</td>\n",
       "      <td>7.019763</td>\n",
       "    </tr>\n",
       "    <tr>\n",
       "      <th>std</th>\n",
       "      <td>0.476752</td>\n",
       "      <td>0.381103</td>\n",
       "      <td>0.435141</td>\n",
       "      <td>0.132306</td>\n",
       "      <td>0.500354</td>\n",
       "      <td>0.459740</td>\n",
       "      <td>0.464668</td>\n",
       "      <td>6.933889</td>\n",
       "    </tr>\n",
       "    <tr>\n",
       "      <th>min</th>\n",
       "      <td>0.000000</td>\n",
       "      <td>0.000000</td>\n",
       "      <td>0.000000</td>\n",
       "      <td>0.000000</td>\n",
       "      <td>0.000000</td>\n",
       "      <td>0.000000</td>\n",
       "      <td>0.000000</td>\n",
       "      <td>0.000000</td>\n",
       "    </tr>\n",
       "    <tr>\n",
       "      <th>25%</th>\n",
       "      <td>0.000000</td>\n",
       "      <td>1.000000</td>\n",
       "      <td>0.000000</td>\n",
       "      <td>0.000000</td>\n",
       "      <td>0.000000</td>\n",
       "      <td>0.000000</td>\n",
       "      <td>0.000000</td>\n",
       "      <td>1.000000</td>\n",
       "    </tr>\n",
       "    <tr>\n",
       "      <th>50%</th>\n",
       "      <td>0.000000</td>\n",
       "      <td>1.000000</td>\n",
       "      <td>1.000000</td>\n",
       "      <td>0.000000</td>\n",
       "      <td>1.000000</td>\n",
       "      <td>1.000000</td>\n",
       "      <td>0.000000</td>\n",
       "      <td>5.000000</td>\n",
       "    </tr>\n",
       "    <tr>\n",
       "      <th>75%</th>\n",
       "      <td>1.000000</td>\n",
       "      <td>1.000000</td>\n",
       "      <td>1.000000</td>\n",
       "      <td>0.000000</td>\n",
       "      <td>1.000000</td>\n",
       "      <td>1.000000</td>\n",
       "      <td>1.000000</td>\n",
       "      <td>10.000000</td>\n",
       "    </tr>\n",
       "    <tr>\n",
       "      <th>max</th>\n",
       "      <td>1.000000</td>\n",
       "      <td>1.000000</td>\n",
       "      <td>1.000000</td>\n",
       "      <td>1.000000</td>\n",
       "      <td>1.000000</td>\n",
       "      <td>1.000000</td>\n",
       "      <td>1.000000</td>\n",
       "      <td>28.000000</td>\n",
       "    </tr>\n",
       "  </tbody>\n",
       "</table>\n",
       "</div>"
      ],
      "text/plain": [
       "       house_trained  shots_current  spayed_neutered  special_needs  \\\n",
       "count     506.000000     506.000000       506.000000     506.000000   \n",
       "mean        0.347826       0.824111         0.747036       0.017787   \n",
       "std         0.476752       0.381103         0.435141       0.132306   \n",
       "min         0.000000       0.000000         0.000000       0.000000   \n",
       "25%         0.000000       1.000000         0.000000       0.000000   \n",
       "50%         0.000000       1.000000         1.000000       0.000000   \n",
       "75%         1.000000       1.000000         1.000000       0.000000   \n",
       "max         1.000000       1.000000         1.000000       1.000000   \n",
       "\n",
       "         children        dogs        cats  time_in_rescue  \n",
       "count  506.000000  506.000000  506.000000      506.000000  \n",
       "mean     0.511858    0.697628    0.314229        7.019763  \n",
       "std      0.500354    0.459740    0.464668        6.933889  \n",
       "min      0.000000    0.000000    0.000000        0.000000  \n",
       "25%      0.000000    0.000000    0.000000        1.000000  \n",
       "50%      1.000000    1.000000    0.000000        5.000000  \n",
       "75%      1.000000    1.000000    1.000000       10.000000  \n",
       "max      1.000000    1.000000    1.000000       28.000000  "
      ]
     },
     "execution_count": 15,
     "metadata": {},
     "output_type": "execute_result"
    }
   ],
   "source": [
    "df.describe()"
   ]
  },
  {
   "cell_type": "markdown",
   "metadata": {},
   "source": [
    "## Visualize the most common breeds of adopted dogs"
   ]
  },
  {
   "cell_type": "code",
   "execution_count": 16,
   "metadata": {},
   "outputs": [
    {
     "data": {
      "text/plain": [
       "<AxesSubplot: title={'center': 'Amount of dogs per breed that are adopted'}>"
      ]
     },
     "execution_count": 16,
     "metadata": {},
     "output_type": "execute_result"
    },
    {
     "data": {
      "image/png": "[encoded data removed]",
      "text/plain": [
       "<Figure size 640x480 with 1 Axes>"
      ]
     },
     "metadata": {},
     "output_type": "display_data"
    }
   ],
   "source": [
    "df['primary'].value_counts()[:25].sort_values().plot(kind='barh', title='Amount of dogs per breed that are adopted', color='red')"
   ]
  },
  {
   "cell_type": "markdown",
   "metadata": {},
   "source": [
    "## Show amount of dogs adopted per age catergory"
   ]
  },
  {
   "cell_type": "code",
   "execution_count": 17,
   "metadata": {},
   "outputs": [
    {
     "data": {
      "text/plain": [
       "<AxesSubplot: title={'center': 'Age stratification of adopted dogs'}>"
      ]
     },
     "execution_count": 17,
     "metadata": {},
     "output_type": "execute_result"
    },
    {
     "data": {
      "image/png": "[encoded data removed]",
      "text/plain": [
       "<Figure size 640x480 with 1 Axes>"
      ]
     },
     "metadata": {},
     "output_type": "display_data"
    }
   ],
   "source": [
    "# give bar chart pretty colors\n",
    "bar_colors = ['red', 'pink', 'green', 'brown']\n",
    "df['age'].value_counts().sort_values().plot(kind='barh', title='Age stratification of adopted dogs', color=bar_colors)"
   ]
  },
  {
   "cell_type": "markdown",
   "metadata": {},
   "source": [
    "## Show distribution of the outcome variable"
   ]
  },
  {
   "cell_type": "code",
   "execution_count": 18,
   "metadata": {},
   "outputs": [
    {
     "data": {
      "text/plain": [
       "Text(0.5, 1.0, 'Outcome variable histogram')"
      ]
     },
     "execution_count": 18,
     "metadata": {},
     "output_type": "execute_result"
    },
    {
     "data": {
      "image/png": "[encoded data removed]",
      "text/plain": [
       "<Figure size 640x480 with 1 Axes>"
      ]
     },
     "metadata": {},
     "output_type": "display_data"
    }
   ],
   "source": [
    "# plot outcome variable in historgram\n",
    "plt.hist(df['time_in_rescue'], color='purple', bins=25)\n",
    "\n",
    "# set labels and title\n",
    "plt.xlabel('days in rescue system before adopted')\n",
    "plt.ylabel('frequency')\n",
    "plt.title('Outcome variable histogram')"
   ]
  },
  {
   "cell_type": "markdown",
   "metadata": {},
   "source": [
    "## Show how much percentage from the sample has a certain attribute"
   ]
  },
  {
   "cell_type": "code",
   "execution_count": 19,
   "metadata": {},
   "outputs": [
    {
     "data": {
      "image/png": "[encoded data removed]",
      "text/plain": [
       "<Figure size 640x480 with 1 Axes>"
      ]
     },
     "metadata": {},
     "output_type": "display_data"
    }
   ],
   "source": [
    "# Got most of this code from matplotlib docs https://matplotlib.org/stable/gallery/lines_bars_and_markers/barh.html\n",
    "\n",
    "# set y titles\n",
    "Attributes = ('House trained', 'Shots Current', 'Spayed Neutered', 'Special Needs', 'Children', 'Dogs', 'Cats')\n",
    "y_pos = np.arange(len(Attributes))\n",
    "\n",
    "# calculate percentage of sample\n",
    "averages = df[['house_trained', 'shots_current', 'spayed_neutered', 'special_needs', 'children', 'dogs', 'cats']].mean() * 100\n",
    "\n",
    "# set bar colors\n",
    "bar_colors = ['tab:orange', 'tab:green', 'tab:gray', 'tab:purple', 'tab:blue', 'tab:red', 'tab:olive']\n",
    "\n",
    "# create sub plot\n",
    "fig, ax = plt.subplots()\n",
    "\n",
    "# set colors\n",
    "ax.barh(y_pos, averages, align='center', color=bar_colors)\n",
    "ax.set_yticks(y_pos, labels=Attributes)\n",
    "\n",
    "# make a vertical bar chart\n",
    "ax.invert_yaxis()  \n",
    "\n",
    "# set labels\n",
    "ax.set_xlabel('Percentage of sample that has this attribute')\n",
    "ax.set_title('Sample visualisation')\n",
    "\n",
    "# show until 100%\n",
    "plt.xlim([0, 100])\n",
    "plt.show()"
   ]
  },
  {
   "cell_type": "markdown",
   "metadata": {},
   "source": [
    "## Split train and test data, 70% of data is used to train the model, and 30% is left to make predictions. "
   ]
  },
  {
   "cell_type": "markdown",
   "metadata": {},
   "source": [
    "Now we will splitting the dataset into a training set and a test set. The purpose of this is to evaluate the performance of a model on new, unseen data.\n",
    "\n",
    "The training set is used to train the model, which involves adjusting the model's parameters.\n",
    "The test set is then used to evaluate the model's performance on data it has not seen before. \n",
    "\n",
    "By evaluating the model's performance on the test set, we can get a better understanding of how well the model will perform on real-world data. \n",
    "This is important because we want to ensure that the model is not overfitting to the training data, which would result in poor generalization to new data."
   ]
  },
  {
   "cell_type": "code",
   "execution_count": 20,
   "metadata": {},
   "outputs": [],
   "source": [
    "# split in training and test data.\n",
    "x_train,x_test,y_train,y_test=train_test_split(x,y, test_size=0.3, random_state=777)"
   ]
  },
  {
   "cell_type": "markdown",
   "metadata": {},
   "source": [
    "## Make multiple linear regression model and predict results"
   ]
  },
  {
   "cell_type": "code",
   "execution_count": 21,
   "metadata": {},
   "outputs": [],
   "source": [
    "# determine model \n",
    "model=LinearRegression()\n",
    "\n",
    "# train model\n",
    "model.fit(x_train, y_train)\n",
    "\n",
    "# predict outcomes\n",
    "y_pred = model.predict(x_test)"
   ]
  },
  {
   "cell_type": "markdown",
   "metadata": {},
   "source": [
    "## Evaluate the linear regression model"
   ]
  },
  {
   "cell_type": "code",
   "execution_count": 22,
   "metadata": {},
   "outputs": [
    {
     "name": "stdout",
     "output_type": "stream",
     "text": [
      "R squared = 0.02278825828990516\n",
      "MSE = 40.750161050699695\n"
     ]
    }
   ],
   "source": [
    "# calculate r2 score\n",
    "print(f'R squared = {r2_score(y_test, y_pred)}')\n",
    "print(f'MSE = {mean_squared_error(y_test, y_pred)}')"
   ]
  },
  {
   "cell_type": "markdown",
   "metadata": {},
   "source": [
    "So the R2 of my linear regression model is 0.022788....\n",
    "\n",
    "This means that of the actual outcomes, 2,278% can be explained by this model. \n",
    "\n",
    "This is on the low side, as a weak R2 is 20% and this is thus 10 times as small. \n",
    "\n",
    "This means that our model may be significant, but it is not very accurate.\n",
    "\n",
    "In order to check out other parameters of our model statistics we will compute another with statsmodel, as this shows more data\n"
   ]
  },
  {
   "cell_type": "markdown",
   "metadata": {},
   "source": [
    "## compute another multiple linear regression model but with a fancy summary"
   ]
  },
  {
   "cell_type": "code",
   "execution_count": 23,
   "metadata": {},
   "outputs": [
    {
     "name": "stdout",
     "output_type": "stream",
     "text": [
      "                            OLS Regression Results                            \n",
      "==============================================================================\n",
      "Dep. Variable:         time_in_rescue   R-squared:                       0.062\n",
      "Model:                            OLS   Adj. R-squared:                  0.049\n",
      "Method:                 Least Squares   F-statistic:                     4.718\n",
      "Date:                Fri, 16 Dec 2022   Prob (F-statistic):           3.83e-05\n",
      "Time:                        17:38:28   Log-Likelihood:                -1681.1\n",
      "No. Observations:                 506   AIC:                             3378.\n",
      "Df Residuals:                     498   BIC:                             3412.\n",
      "Df Model:                           7                                         \n",
      "Covariance Type:            nonrobust                                         \n",
      "===================================================================================\n",
      "                      coef    std err          t      P>|t|      [0.025      0.975]\n",
      "-----------------------------------------------------------------------------------\n",
      "const               5.3066      0.816      6.501      0.000       3.703       6.910\n",
      "house_trained       1.6647      0.687      2.423      0.016       0.315       3.015\n",
      "shots_current       2.6411      0.927      2.849      0.005       0.820       4.463\n",
      "spayed_neutered    -0.6937      0.813     -0.854      0.394      -2.290       0.903\n",
      "special_needs       4.6799      2.299      2.036      0.042       0.164       9.196\n",
      "children           -2.9939      0.789     -3.793      0.000      -4.545      -1.443\n",
      "dogs                1.1568      0.840      1.378      0.169      -0.493       2.807\n",
      "cats                0.3754      0.738      0.508      0.611      -1.075       1.826\n",
      "==============================================================================\n",
      "Omnibus:                       61.343   Durbin-Watson:                   1.805\n",
      "Prob(Omnibus):                  0.000   Jarque-Bera (JB):               81.422\n",
      "Skew:                           0.974   Prob(JB):                     2.09e-18\n",
      "Kurtosis:                       3.262   Cond. No.                         14.3\n",
      "==============================================================================\n",
      "\n",
      "Notes:\n",
      "[1] Standard Errors assume that the covariance matrix of the errors is correctly specified.\n"
     ]
    }
   ],
   "source": [
    "# add constant for different calculation of the same model\n",
    "x = sm.add_constant(x)\n",
    "\n",
    "# make linear regression with statsmodel\n",
    "model = sm.OLS(y, x).fit()\n",
    "\n",
    "# print summary\n",
    "print(model.summary())"
   ]
  },
  {
   "cell_type": "markdown",
   "metadata": {},
   "source": [
    "Of the linear regression model which was calculated with statsmodel on the same data, but without the training, test split. The R2 is 6,2%\n",
    "\n",
    "This may be by chance and it doesn't mean that this model is better than the previous one. There has been an additional step which is adding a constant to the independant variables.\n",
    "\n",
    "This may have resulted in a slightly higher R2. \n",
    "\n",
    "Of the independant variables 4 are significant, they are significant if the p value is less than 0.05.\n",
    "\n",
    "The significant variables are:\n",
    "1. is house trained\n",
    "2. has shots current\n",
    "3. has special needs\n",
    "4. socialized with children\n",
    "\n",
    "These 4 variables have a 95% of having an influence on the outcome variable time in rescue. "
   ]
  },
  {
   "cell_type": "markdown",
   "metadata": {},
   "source": [
    "## visualise accuracy of the model"
   ]
  },
  {
   "cell_type": "code",
   "execution_count": 24,
   "metadata": {},
   "outputs": [
    {
     "data": {
      "image/png": "[encoded data removed]",
      "text/plain": [
       "<Figure size 640x480 with 1 Axes>"
      ]
     },
     "metadata": {},
     "output_type": "display_data"
    }
   ],
   "source": [
    "# plot the predicted values vs. the actual values\n",
    "fig, ax = plt.subplots()\n",
    "ax.scatter(y_test, y_pred)\n",
    "plt.xlabel('Actual')\n",
    "plt.ylabel('Predicted')\n",
    "plt.ylim([0, 27])\n",
    "plt.title('Actual vs predicted')\n",
    "plt.show()"
   ]
  },
  {
   "cell_type": "markdown",
   "metadata": {},
   "source": [
    "even though there appears to be a pattern in this data, sort of a horizontal line, this does not imply that it is a good fit.\n",
    "\n",
    "For the data to be a good fit you want to have a scatter in the form of a diagonal line from (0, 0) to (25, 25) on the plot.\n",
    "\n",
    "This would imply that if the predicted value was 5, the actual value was also 5. \n",
    "\n",
    "What we're seeing here looks like my model under shoots a lot of predicted values.\n",
    "\n",
    "actual values go up to 26, and the highest predicted value appears to be 13. \n",
    "\n"
   ]
  },
  {
   "cell_type": "markdown",
   "metadata": {},
   "source": [
    "## Make a polynomial model "
   ]
  },
  {
   "cell_type": "markdown",
   "metadata": {},
   "source": [
    "Because we're not happy yet with a R2 score of 2,28 and 6,2, we will try and make a polynomial model instead of linear. "
   ]
  },
  {
   "cell_type": "code",
   "execution_count": 25,
   "metadata": {},
   "outputs": [
    {
     "name": "stdout",
     "output_type": "stream",
     "text": [
      "R squared = 0.16922364169773207\n",
      "MSE = 39.86380591803955\n"
     ]
    }
   ],
   "source": [
    "# got this code from https://enjoymachinelearning.com/blog/multivariate-polynomial-regression-python/\n",
    "\n",
    "# set variables\n",
    "x_values = x[['shots_current', 'house_trained', 'special_needs', 'children','spayed_neutered','dogs','cats']]\n",
    "y_values = y\n",
    "\n",
    "# set degrees of freedom\n",
    "degree = 3\n",
    "\n",
    "# set model\n",
    "poly_model = PolynomialFeatures(degree)\n",
    "\n",
    "# transform data to have poly features\n",
    "poly_x = poly_model.fit_transform(x_values)\n",
    "\n",
    "# fitting the model\n",
    "poly_model.fit(poly_x, y_values)\n",
    "\n",
    "# add linear regression to the base of the model\n",
    "regression_model = LinearRegression()\n",
    "regression_model.fit(poly_x, y_values)\n",
    "\n",
    "# making predictions with model.\n",
    "y_pred = regression_model.predict(poly_x)\n",
    "\n",
    "# calculate coefficiencies\n",
    "regression_model.coef_\n",
    "\n",
    "# evaluate model\n",
    "print(f'R squared = {r2_score(y_values, y_pred)}')\n",
    "print(f'MSE = {mean_squared_error(y_values, y_pred)}')"
   ]
  },
  {
   "cell_type": "markdown",
   "metadata": {},
   "source": [
    "R squared of the polynomial model is 16,92% which is significantly higher than our linear model. \n",
    "\n",
    "The polynomial model has a better fit than the linear model, and thus we can conclude the relationship to not be linear "
   ]
  },
  {
   "cell_type": "markdown",
   "metadata": {},
   "source": [
    "## Visualize the accuracy of the polynomial model"
   ]
  },
  {
   "cell_type": "code",
   "execution_count": 26,
   "metadata": {},
   "outputs": [
    {
     "data": {
      "image/png": "[encoded data removed]",
      "text/plain": [
       "<Figure size 640x480 with 1 Axes>"
      ]
     },
     "metadata": {},
     "output_type": "display_data"
    }
   ],
   "source": [
    "# plot predicted values vs. actual\n",
    "plt.scatter(y_pred, y_values)\n",
    "plt.xlabel('Actual')\n",
    "plt.ylabel('Predicted')\n",
    "plt.title('Actual vs predicted')\n",
    "plt.show()"
   ]
  },
  {
   "cell_type": "markdown",
   "metadata": {},
   "source": [
    "So this model has a better fit to the data than the linear model. \n",
    "\n",
    "This is also visible in the plot of actual vs predicted. \n",
    "\n",
    "You can clearly see that the model isn't only undershooting anymore, but the data points are somewhat in a diagonal scatter across the plot.\n",
    "\n",
    "this is a positive change since last model. And if we could make this model more accurate, the points will converge towards the diagonal line."
   ]
  },
  {
   "cell_type": "markdown",
   "metadata": {},
   "source": [
    "## calculate the optimal degrees of freedom for the polynomial model"
   ]
  },
  {
   "cell_type": "code",
   "execution_count": 27,
   "metadata": {},
   "outputs": [
    {
     "data": {
      "image/png": "[encoded data removed]",
      "text/plain": [
       "<Figure size 640x480 with 1 Axes>"
      ]
     },
     "metadata": {},
     "output_type": "display_data"
    }
   ],
   "source": [
    "# got this code from https://enjoymachinelearning.com/blog/multivariate-polynomial-regression-python/\n",
    "\n",
    "number_degrees = [1,2,3,4,5,6,7]\n",
    "plt_mean_squared_error = []\n",
    "for degree in number_degrees:\n",
    "\n",
    "   poly_model = PolynomialFeatures(degree=degree)\n",
    "  \n",
    "   poly_x_values = poly_model.fit_transform(x_values)\n",
    "   poly_model.fit(poly_x_values, y_values)\n",
    "  \n",
    "   regression_model = LinearRegression()\n",
    "   regression_model.fit(poly_x_values, y_values)\n",
    "   y_pred = regression_model.predict(poly_x_values)\n",
    "  \n",
    "   plt_mean_squared_error.append(mean_squared_error(y_values, y_pred, squared=False))\n",
    "\n",
    "plt.scatter(number_degrees,plt_mean_squared_error, color=\"green\")\n",
    "plt.plot(number_degrees,plt_mean_squared_error, color=\"red\") \n",
    "plt.show()"
   ]
  },
  {
   "cell_type": "markdown",
   "metadata": {},
   "source": [
    "This is code i found online which proves what the best degrees of freedom of your model is to get the lowest MSE possible, in this case: 3."
   ]
  }
 ],
 "metadata": {
  "kernelspec": {
   "display_name": "Python 3.10.8 64-bit",
   "language": "python",
   "name": "python3"
  },
  "language_info": {
   "codemirror_mode": {
    "name": "ipython",
    "version": 3
   },
   "file_extension": ".py",
   "mimetype": "text/x-python",
   "name": "python",
   "nbconvert_exporter": "python",
   "pygments_lexer": "ipython3",
   "version": "3.10.8"
  },
  "orig_nbformat": 4,
  "vscode": {
   "interpreter": {
    "hash": "aee8b7b246df8f9039afb4144a1f6fd8d2ca17a180786b69acc140d282b71a49"
   }
  }
 },
 "nbformat": 4,
 "nbformat_minor": 2
}
